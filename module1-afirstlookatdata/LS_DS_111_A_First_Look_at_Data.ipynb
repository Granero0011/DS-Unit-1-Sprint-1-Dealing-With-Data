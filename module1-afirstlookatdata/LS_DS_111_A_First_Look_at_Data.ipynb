{
  "nbformat": 4,
  "nbformat_minor": 0,
  "metadata": {
    "colab": {
      "name": "LS_DS_111_A_First_Look_at_Data.ipynb",
      "version": "0.3.2",
      "provenance": [],
      "include_colab_link": true
    },
    "kernelspec": {
      "name": "python3",
      "display_name": "Python 3"
    }
  },
  "cells": [
    {
      "cell_type": "markdown",
      "metadata": {
        "id": "view-in-github",
        "colab_type": "text"
      },
      "source": [
        "<a href=\"https://colab.research.google.com/github/Granero0011/DS-Unit-1-Sprint-1-Dealing-With-Data/blob/master/module1-afirstlookatdata/LS_DS_111_A_First_Look_at_Data.ipynb\" target=\"_parent\"><img src=\"https://colab.research.google.com/assets/colab-badge.svg\" alt=\"Open In Colab\"/></a>"
      ]
    },
    {
      "metadata": {
        "id": "Okfr_uhwhS1X",
        "colab_type": "text"
      },
      "cell_type": "markdown",
      "source": [
        "# Lambda School Data Science - A First Look at Data\n",
        "\n"
      ]
    },
    {
      "metadata": {
        "id": "9dtJETFRhnOG",
        "colab_type": "text"
      },
      "cell_type": "markdown",
      "source": [
        "## Lecture - let's explore Python DS libraries and examples!\n",
        "\n",
        "The Python Data Science ecosystem is huge. You've seen some of the big pieces - pandas, scikit-learn, matplotlib. What parts do you want to see more of?"
      ]
    },
    {
      "metadata": {
        "id": "WiBkgmPJhmhE",
        "colab_type": "code",
        "colab": {
          "base_uri": "https://localhost:8080/",
          "height": 34
        },
        "outputId": "9980b858-a56f-4baa-9ba4-e2926fa4d021"
      },
      "cell_type": "code",
      "source": [
        "# TODO - we'll be doing this live, taking requests\n",
        "# and reproducing what it is to look up and learn things\n",
        "\n",
        "1+1\n"
      ],
      "execution_count": 1,
      "outputs": [
        {
          "output_type": "execute_result",
          "data": {
            "text/plain": [
              "2"
            ]
          },
          "metadata": {
            "tags": []
          },
          "execution_count": 1
        }
      ]
    },
    {
      "metadata": {
        "id": "lOqaPds9huME",
        "colab_type": "text"
      },
      "cell_type": "markdown",
      "source": [
        "## Assignment - now it's your turn\n",
        "\n",
        "Pick at least one Python DS library, and using documentation/examples reproduce in this notebook something cool. It's OK if you don't fully understand it or get it 100% working, but do put in effort and look things up."
      ]
    },
    {
      "metadata": {
        "id": "TGUS79cOhPWj",
        "colab_type": "code",
        "colab": {
          "base_uri": "https://localhost:8080/",
          "height": 911
        },
        "outputId": "c0e3c93d-1b9e-4cbb-cc29-9cdbfa194948"
      },
      "cell_type": "code",
      "source": [
        "# TODO - your code here\n",
        "# Use what we did live in lecture as an example\n",
        "\n",
        "\n",
        "# I imported numpy and panda\n",
        "import numpy as np\n",
        "import pandas as pd\n",
        "import matplotlib.pyplot as plt\n",
        "\n",
        "\n",
        "# I imported a csv dataframe that was already loaded in my github account\n",
        "data =pd.read_csv (\"https://raw.githubusercontent.com/Granero0011/DS-Unit-1-Sprint-1-Dealing-With-Data/master/mockdata.csv\")\n",
        "print(data)\n",
        "\n",
        "#Average GPA in the cohort\n",
        "\n",
        "averagegpa= np.average(data['GPA'])\n",
        "print(\"Average GPA\")\n",
        "print(averagegpa)\n",
        "\n",
        "#Male / Female bar graph\n",
        "\n",
        "Names= { \"Male\", \"Female\"};\n",
        "y_pos = np.arange(len(Names))\n",
        "N_men= np.sum(data['Male']);\n",
        "N_women=np.sum(data['Female']);\n",
        "Numbers = [N_men, N_women];\n",
        "\n",
        "plt.bar(y_pos, Numbers, align='center', alpha=0.5)\n",
        "plt.xticks(y_pos, Names)\n",
        "plt.ylabel('Number of Males/Females')\n",
        "plt.title('Male/Female Partition')\n",
        " \n",
        "plt.show()\n",
        "\n",
        "averagefemGPA= np.average(data['GPA'][0:4]);\n",
        "averagemaleGPA=np.average(data['GPA'][4:9]);\n",
        "Numbers2=[averagemaleGPA, averagefemGPA]\n",
        "\n",
        "plt.bar(y_pos, Numbers2, align='center', alpha=0.5)\n",
        "plt.xticks(y_pos, Names)\n",
        "plt.ylabel('Average GPA')\n",
        "plt.title('Male vs Female GPA')\n",
        " \n",
        "plt.show()\n",
        "\n",
        "#1\n",
        "#I created a short csv dataframe with GPAs and gender markers. Then, I plotted \n",
        "#bar graphs with matplotlib to assess the number of males/females and their\n",
        "#respective average GPAs\n",
        "\n",
        "#2\n",
        "#The most challenging part was plotting the bar graph. / An alternative answer\n",
        "#would be my inability to find the kind of data that I could use in this short\n",
        "#timeframe\n",
        "\n",
        "#3\n",
        "#I learned how to import a file from my github repository\n",
        "\n",
        "#4\n",
        "#Well , I would love to learn advance methods that would allow me to dive\n",
        "#into the large databases a little bit more efficiently.\n",
        "\n",
        "                           \n",
        "  \n",
        "\n",
        "\n",
        "\n",
        "\n",
        "\n",
        "\n"
      ],
      "execution_count": 17,
      "outputs": [
        {
          "output_type": "stream",
          "text": [
            "   GPA  Time to Graduate  Male  Female\n",
            "0  3.2                 4     0       1\n",
            "1  3.0                 5     0       1\n",
            "2  3.1                 3     0       1\n",
            "3  3.5                 5     0       1\n",
            "4  3.7                 4     0       1\n",
            "5  3.8                 5     1       0\n",
            "6  2.8                 4     1       0\n",
            "7  3.9                 5     1       0\n",
            "8  2.0                 4     1       0\n",
            "Average GPA\n",
            "3.2222222222222223\n"
          ],
          "name": "stdout"
        },
        {
          "output_type": "display_data",
          "data": {
            "image/png": "[encoded data removed]",
            "text/plain": [
              "<Figure size 576x396 with 1 Axes>"
            ]
          },
          "metadata": {
            "tags": []
          }
        },
        {
          "output_type": "display_data",
          "data": {
            "image/png": "[encoded data removed]",
            "text/plain": [
              "<Figure size 576x396 with 1 Axes>"
            ]
          },
          "metadata": {
            "tags": []
          }
        }
      ]
    },
    {
      "metadata": {
        "id": "BT9gdS7viJZa",
        "colab_type": "text"
      },
      "cell_type": "markdown",
      "source": [
        "### Assignment questions\n",
        "\n",
        "After you've worked on some code, answer the following questions in this text block:\n",
        "\n",
        "1.  Describe in a paragraph of text what you did and why, as if you were writing an email to somebody interested but nontechnical.\n",
        "\n",
        "2.  What was the most challenging part of what you did?\n",
        "\n",
        "3.  What was the most interesting thing you learned?\n",
        "\n",
        "4.  What area would you like to explore with more time?\n",
        "\n",
        "\n"
      ]
    },
    {
      "metadata": {
        "id": "_XXg2crAipwP",
        "colab_type": "text"
      },
      "cell_type": "markdown",
      "source": [
        "## Stretch goals and resources\n",
        "\n",
        "Following are *optional* things for you to take a look at. Focus on the above assignment first, and make sure to commit and push your changes to GitHub (and since this is the first assignment of the sprint, open a PR as well).\n",
        "\n",
        "- [pandas documentation](https://pandas.pydata.org/pandas-docs/stable/)\n",
        "- [scikit-learn documentation](http://scikit-learn.org/stable/documentation.html)\n",
        "- [matplotlib documentation](https://matplotlib.org/contents.html)\n",
        "- [Awesome Data Science](https://github.com/bulutyazilim/awesome-datascience) - a list of many types of DS resources\n",
        "\n",
        "Stretch goals:\n",
        "\n",
        "- Find and read blogs, walkthroughs, and other examples of people working through cool things with data science - and share with your classmates!\n",
        "- Write a blog post (Medium is a popular place to publish) introducing yourself as somebody learning data science, and talking about what you've learned already and what you're excited to learn more about."
      ]
    }
  ]
}